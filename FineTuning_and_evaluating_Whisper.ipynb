{
  "nbformat": 4,
  "nbformat_minor": 0,
  "metadata": {
    "colab": {
      "provenance": [],
      "authorship_tag": "ABX9TyONf5ENnnquRq1R3eAKHq5V",
      "include_colab_link": true
    },
    "kernelspec": {
      "name": "python3",
      "display_name": "Python 3"
    },
    "language_info": {
      "name": "python"
    }
  },
  "cells": [
    {
      "cell_type": "markdown",
      "metadata": {
        "id": "view-in-github",
        "colab_type": "text"
      },
      "source": [
        "<a href=\"https://colab.research.google.com/github/MartinaBertazzoni/Load-Balancer/blob/main/FineTuning_and_evaluating_Whisper.ipynb\" target=\"_parent\"><img src=\"https://colab.research.google.com/assets/colab-badge.svg\" alt=\"Open In Colab\"/></a>"
      ]
    },
    {
      "cell_type": "code",
      "execution_count": null,
      "metadata": {
        "id": "yRpz_2m72rx4"
      },
      "outputs": [],
      "source": [
        "from datasets import Dataset, Audio, Value\n",
        "\n",
        "source_data_dir = \"/content/drive/MyDrive/Università_Magistrale/Tirocinio/source_data_dir\"  # Modifica con il tuo percorso\n",
        "output_data_dir = \"/content/drive/MyDrive/Università_Magistrale/Tirocinio/output_data_dir\"  # Modifica con il tuo percorso\n",
        "\n",
        "scp_entries = open(f\"{source_data_dir}/audio_paths\", 'r').readlines()\n",
        "txt_entries = open(f\"{source_data_dir}/text\", 'r').readlines()\n",
        "\n",
        "if len(scp_entries) == len(txt_entries):\n",
        "    audio_dataset = Dataset.from_dict({\"audio\": [audio_path.split()[1].strip() for audio_path in scp_entries],\n",
        "                    \"sentence\": [' '.join(text_line.split()[1:]).strip() for text_line in txt_entries]})\n",
        "\n",
        "    audio_dataset = audio_dataset.cast_column(\"audio\", Audio(sampling_rate=16_000))\n",
        "    audio_dataset = audio_dataset.cast_column(\"sentence\", Value(\"string\"))\n",
        "    audio_dataset.save_to_disk(output_data_dir)\n",
        "    print('Data preparation done')\n",
        "\n",
        "else:\n",
        "    print('Please re-check the audio_paths and text files. They seem to have a mismatch in terms of the number of entries. Both these files should be carrying the same number of lines.')"
      ]
    }
  ]
}